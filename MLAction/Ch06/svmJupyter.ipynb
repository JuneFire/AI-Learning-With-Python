{
 "cells": [
  {
   "cell_type": "code",
   "execution_count": 3,
   "metadata": {
    "collapsed": true
   },
   "outputs": [
    {
     "ename": "FileNotFoundError",
     "evalue": "[WinError 3] 系统找不到指定的路径。: 'trainingDigits'",
     "output_type": "error",
     "traceback": [
      "\u001B[1;31m---------------------------------------------------------------------------\u001B[0m",
      "\u001B[1;31mFileNotFoundError\u001B[0m                         Traceback (most recent call last)",
      "\u001B[1;32m<ipython-input-3-64181fb815e3>\u001B[0m in \u001B[0;36m<module>\u001B[1;34m\u001B[0m\n\u001B[0;32m      1\u001B[0m \u001B[1;32mimport\u001B[0m \u001B[0mCh06\u001B[0m\u001B[1;33m.\u001B[0m\u001B[0msvmMLiA\u001B[0m \u001B[1;32mas\u001B[0m  \u001B[0msvmMLiA\u001B[0m\u001B[1;33m\u001B[0m\u001B[1;33m\u001B[0m\u001B[0m\n\u001B[1;32m----> 2\u001B[1;33m \u001B[0msvmMLiA\u001B[0m\u001B[1;33m.\u001B[0m\u001B[0mtestDigits\u001B[0m\u001B[1;33m(\u001B[0m\u001B[1;33m(\u001B[0m\u001B[1;34m'rbf'\u001B[0m\u001B[1;33m,\u001B[0m \u001B[1;36m20\u001B[0m\u001B[1;33m)\u001B[0m\u001B[1;33m)\u001B[0m\u001B[1;33m\u001B[0m\u001B[1;33m\u001B[0m\u001B[0m\n\u001B[0m",
      "\u001B[1;32mD:\\PycharmProjects\\AI-Learning-With-Python\\MLAction\\Ch06\\svmMLiA.py\u001B[0m in \u001B[0;36mtestDigits\u001B[1;34m(kTup)\u001B[0m\n\u001B[0;32m    294\u001B[0m \u001B[1;33m\u001B[0m\u001B[0m\n\u001B[0;32m    295\u001B[0m \u001B[1;32mdef\u001B[0m \u001B[0mtestDigits\u001B[0m\u001B[1;33m(\u001B[0m\u001B[0mkTup\u001B[0m\u001B[1;33m=\u001B[0m\u001B[1;33m(\u001B[0m\u001B[1;34m'rbf'\u001B[0m\u001B[1;33m,\u001B[0m \u001B[1;36m10\u001B[0m\u001B[1;33m)\u001B[0m\u001B[1;33m)\u001B[0m\u001B[1;33m:\u001B[0m\u001B[1;33m\u001B[0m\u001B[1;33m\u001B[0m\u001B[0m\n\u001B[1;32m--> 296\u001B[1;33m     \u001B[0mdataArr\u001B[0m\u001B[1;33m,\u001B[0m \u001B[0mlabelArr\u001B[0m \u001B[1;33m=\u001B[0m \u001B[0mloadImages\u001B[0m\u001B[1;33m(\u001B[0m\u001B[1;34m'trainingDigits'\u001B[0m\u001B[1;33m)\u001B[0m\u001B[1;33m\u001B[0m\u001B[1;33m\u001B[0m\u001B[0m\n\u001B[0m\u001B[0;32m    297\u001B[0m     \u001B[0mb\u001B[0m\u001B[1;33m,\u001B[0m \u001B[0malphas\u001B[0m \u001B[1;33m=\u001B[0m \u001B[0msmoP\u001B[0m\u001B[1;33m(\u001B[0m\u001B[0mdataArr\u001B[0m\u001B[1;33m,\u001B[0m \u001B[0mlabelArr\u001B[0m\u001B[1;33m,\u001B[0m \u001B[1;36m200\u001B[0m\u001B[1;33m,\u001B[0m \u001B[1;36m0.0001\u001B[0m\u001B[1;33m,\u001B[0m \u001B[1;36m10000\u001B[0m\u001B[1;33m,\u001B[0m \u001B[0mkTup\u001B[0m\u001B[1;33m)\u001B[0m\u001B[1;33m\u001B[0m\u001B[1;33m\u001B[0m\u001B[0m\n\u001B[0;32m    298\u001B[0m     \u001B[0mdatMat\u001B[0m \u001B[1;33m=\u001B[0m \u001B[0mmat\u001B[0m\u001B[1;33m(\u001B[0m\u001B[0mdataArr\u001B[0m\u001B[1;33m)\u001B[0m\u001B[1;33m\u001B[0m\u001B[1;33m\u001B[0m\u001B[0m\n",
      "\u001B[1;32mD:\\PycharmProjects\\AI-Learning-With-Python\\MLAction\\Ch06\\svmMLiA.py\u001B[0m in \u001B[0;36mloadImages\u001B[1;34m(dirName)\u001B[0m\n\u001B[0;32m    278\u001B[0m     \u001B[1;32mfrom\u001B[0m \u001B[0mos\u001B[0m \u001B[1;32mimport\u001B[0m \u001B[0mlistdir\u001B[0m\u001B[1;33m\u001B[0m\u001B[1;33m\u001B[0m\u001B[0m\n\u001B[0;32m    279\u001B[0m     \u001B[0mhwLabels\u001B[0m \u001B[1;33m=\u001B[0m \u001B[1;33m[\u001B[0m\u001B[1;33m]\u001B[0m\u001B[1;33m\u001B[0m\u001B[1;33m\u001B[0m\u001B[0m\n\u001B[1;32m--> 280\u001B[1;33m     \u001B[0mtrainingFileList\u001B[0m \u001B[1;33m=\u001B[0m \u001B[0mlistdir\u001B[0m\u001B[1;33m(\u001B[0m\u001B[0mdirName\u001B[0m\u001B[1;33m)\u001B[0m  \u001B[1;31m# load the training set\u001B[0m\u001B[1;33m\u001B[0m\u001B[1;33m\u001B[0m\u001B[0m\n\u001B[0m\u001B[0;32m    281\u001B[0m     \u001B[0mm\u001B[0m \u001B[1;33m=\u001B[0m \u001B[0mlen\u001B[0m\u001B[1;33m(\u001B[0m\u001B[0mtrainingFileList\u001B[0m\u001B[1;33m)\u001B[0m\u001B[1;33m\u001B[0m\u001B[1;33m\u001B[0m\u001B[0m\n\u001B[0;32m    282\u001B[0m     \u001B[0mtrainingMat\u001B[0m \u001B[1;33m=\u001B[0m \u001B[0mzeros\u001B[0m\u001B[1;33m(\u001B[0m\u001B[1;33m(\u001B[0m\u001B[0mm\u001B[0m\u001B[1;33m,\u001B[0m \u001B[1;36m1024\u001B[0m\u001B[1;33m)\u001B[0m\u001B[1;33m)\u001B[0m\u001B[1;33m\u001B[0m\u001B[1;33m\u001B[0m\u001B[0m\n",
      "\u001B[1;31mFileNotFoundError\u001B[0m: [WinError 3] 系统找不到指定的路径。: 'trainingDigits'"
     ]
    }
   ],
   "source": []
  }
 ],
 "metadata": {
  "kernelspec": {
   "display_name": "Python 3",
   "language": "python",
   "name": "python3"
  },
  "language_info": {
   "codemirror_mode": {
    "name": "ipython",
    "version": 2
   },
   "file_extension": ".py",
   "mimetype": "text/x-python",
   "name": "python",
   "nbconvert_exporter": "python",
   "pygments_lexer": "ipython2",
   "version": "2.7.6"
  }
 },
 "nbformat": 4,
 "nbformat_minor": 0
}